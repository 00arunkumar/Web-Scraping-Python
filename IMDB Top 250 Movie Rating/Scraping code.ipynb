{
 "cells": [
  {
   "cell_type": "markdown",
   "metadata": {},
   "source": [
    "# <center> Scraping IMDB Top 250 Movie Date using Python </center>"
   ]
  },
  {
   "cell_type": "markdown",
   "metadata": {},
   "source": [
    "<center > <img width = 200 src = \"http://assets.stickpng.com/images/613f661716381700041030fc.png\"> </center>"
   ]
  },
  {
   "cell_type": "code",
   "execution_count": null,
   "metadata": {},
   "outputs": [],
   "source": [
    "# importing all librarys\n",
    "\n",
    "from bs4 import BeautifulSoup\n",
    "import requests, openpyxl"
   ]
  },
  {
   "cell_type": "code",
   "execution_count": null,
   "metadata": {},
   "outputs": [],
   "source": [
    "source = requests.get('https://www.imdb.com/chart/top/')    # web URL which we going to scrape"
   ]
  },
  {
   "cell_type": "code",
   "execution_count": null,
   "metadata": {},
   "outputs": [],
   "source": [
    "soup = BeautifulSoup(source.text, 'html.parser')        "
   ]
  },
  {
   "cell_type": "code",
   "execution_count": null,
   "metadata": {},
   "outputs": [],
   "source": [
    "print(\"length of the html\")                                \n",
    "print(len(source.text))\n",
    "\n",
    "print(\"page content \")\n",
    "page_contents = source.text\n",
    "page_contents[:1000]\n"
   ]
  },
  {
   "cell_type": "code",
   "execution_count": null,
   "metadata": {},
   "outputs": [],
   "source": [
    "movies = soup.find('tbody', class_ = \"lister-list\").find_all('tr')            # gives the number of movies in the list\n",
    "\n",
    "print(\"length of movies list\")\n",
    "print(len(movies))\n",
    "\n",
    "print(\"content in movies list\")\n",
    "print(movies)"
   ]
  },
  {
   "cell_type": "code",
   "execution_count": null,
   "metadata": {},
   "outputs": [],
   "source": [
    "excel = openpyxl.Workbook()                                               # create  a excel file to store our data\n",
    "sheet = excel.active\n",
    "sheet.title = \"Top Rated 100 Movies\"\n",
    "sheet.append(['Movie Rank', 'Movie Name', 'Year of Release', 'IMDB Rating'])       # header of the columns of our data\n"
   ]
  },
  {
   "cell_type": "code",
   "execution_count": null,
   "metadata": {},
   "outputs": [],
   "source": [
    "for movie in movies:\n",
    "\n",
    "    name = movie.find('td', class_ = \"titleColumn\").a.text                                # get movie name\n",
    "    rank = movie.find('td', class_ = \"titleColumn\").get_text(strip=True).split('.')[0]    # get movie rank\n",
    "    year = movie.find('td', class_ = \"titleColumn\").span.text.strip('{}')                 # get movie release year\n",
    "    rating = movie.find('td', class_ = \"ratingColumn imdbRating\").strong.text             # get movie rating \n",
    "    \n",
    "    # print(\"Movie rank :\", rank)\n",
    "    # print(\"Movie Name : \", name)\n",
    "    # print(\"Movie year : \", year)\n",
    "    # print(\"Movie Rating : \", rating)\n",
    "    #print(rank,name,year,rating)\n",
    "    sheet.append([rank , name , year , rating])        # appending data in excel file\n",
    "\n",
    "\n",
    "excel.save('IMDB Top 100 Movie Rating.xlsx ')            # save excel file\n",
    "\n",
    "    "
   ]
  },
  {
   "cell_type": "code",
   "execution_count": null,
   "metadata": {},
   "outputs": [],
   "source": []
  },
  {
   "cell_type": "code",
   "execution_count": null,
   "metadata": {},
   "outputs": [],
   "source": []
  },
  {
   "cell_type": "code",
   "execution_count": null,
   "metadata": {},
   "outputs": [],
   "source": []
  },
  {
   "cell_type": "code",
   "execution_count": null,
   "metadata": {},
   "outputs": [],
   "source": []
  },
  {
   "cell_type": "code",
   "execution_count": null,
   "metadata": {},
   "outputs": [],
   "source": []
  },
  {
   "cell_type": "code",
   "execution_count": null,
   "metadata": {},
   "outputs": [],
   "source": []
  },
  {
   "cell_type": "code",
   "execution_count": null,
   "metadata": {},
   "outputs": [],
   "source": []
  },
  {
   "cell_type": "code",
   "execution_count": null,
   "metadata": {},
   "outputs": [],
   "source": []
  },
  {
   "cell_type": "code",
   "execution_count": null,
   "metadata": {},
   "outputs": [],
   "source": []
  },
  {
   "cell_type": "code",
   "execution_count": null,
   "metadata": {},
   "outputs": [],
   "source": []
  },
  {
   "cell_type": "code",
   "execution_count": null,
   "metadata": {},
   "outputs": [],
   "source": []
  },
  {
   "cell_type": "code",
   "execution_count": null,
   "metadata": {},
   "outputs": [],
   "source": []
  },
  {
   "cell_type": "code",
   "execution_count": null,
   "metadata": {},
   "outputs": [],
   "source": []
  },
  {
   "cell_type": "code",
   "execution_count": null,
   "metadata": {},
   "outputs": [],
   "source": []
  },
  {
   "cell_type": "code",
   "execution_count": null,
   "metadata": {},
   "outputs": [],
   "source": []
  }
 ],
 "metadata": {
  "kernelspec": {
   "display_name": "Python 3.10.4 64-bit",
   "language": "python",
   "name": "python3"
  },
  "language_info": {
   "name": "python",
   "version": "3.10.4"
  },
  "orig_nbformat": 4,
  "vscode": {
   "interpreter": {
    "hash": "ebe6247e7a1f1167b5c64aafd6f99eb52db41c0d4edef59d26ba27c8c23c0d56"
   }
  }
 },
 "nbformat": 4,
 "nbformat_minor": 2
}
